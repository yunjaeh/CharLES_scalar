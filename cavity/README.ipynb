{
 "cells": [
  {
   "cell_type": "markdown",
   "metadata": {},
   "source": [
    "### Validation of scalar transport equation in Helmholtz solver\n",
    "\n",
    "1. Introduction\n",
    "1) Thermally-driven cavity\n",
    "\n",
    "2) Problem setup\n",
    "\n",
    "3) Reference\n",
    "\n",
    "2. Result"
   ]
  },
  {
   "cell_type": "code",
   "execution_count": null,
   "metadata": {},
   "outputs": [],
   "source": []
  },
  {
   "cell_type": "code",
   "execution_count": null,
   "metadata": {},
   "outputs": [],
   "source": [
    "## Thermally driven cavity\n",
    "\n",
    "### 1. Introduction\n",
    "1) Thermally driven cavity flow\n",
    "![cavity setup](images/cavity_setup.png)\n",
    "\n",
    "2) Parameters:\n",
    "\n",
    "Pr =$\\nu$ / $\\alpha$ \\\n",
    "Sc = g $\\beta$ (T<sub>H</sub>-T<sub>L</sub>) D<sup>3</sup> / ($\\nu$ $\\alpha$)\n",
    "\n",
    "\n",
    "3) Reference:\n",
    "\n",
    "### 2. Problem setup\n",
    "1) Boussinesq approximation\n",
    "2) Pr<sub>t</sub> (Sc<sub>t</sub>) = 0.71\n",
    "3) T<sub>L</sub>=0, T<sub>H</sub>=1\n",
    "4) 3 different Rayleigh number,\n",
    "Ra =\n",
    "(10<sup>4</sup>, 10<sup>5</sup>, and 10<sup>6</sup>)\n",
    "\n",
    "### 3. Result\n",
    "1) 10<sup>4</sup>\n",
    "\n",
    "\n",
    "2) 10<sup>5</sup>\n",
    "\n",
    "\n",
    "3) 10<sup>6</sup>\n",
    "\n",
    "\n",
    "\n",
    "![RB gif](Rayleigh-Benard/animation.gif)\n",
    "\n",
    "\n"
   ]
  }
 ],
 "metadata": {
  "kernelspec": {
   "display_name": "Python 3",
   "language": "python",
   "name": "python3"
  },
  "language_info": {
   "codemirror_mode": {
    "name": "ipython",
    "version": 3
   },
   "file_extension": ".py",
   "mimetype": "text/x-python",
   "name": "python",
   "nbconvert_exporter": "python",
   "pygments_lexer": "ipython3",
   "version": "3.8.5"
  }
 },
 "nbformat": 4,
 "nbformat_minor": 4
}
